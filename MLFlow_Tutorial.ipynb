{
  "cells": [
    {
      "cell_type": "markdown",
      "metadata": {
        "id": "sbi9lpdNobj2"
      },
      "source": [
        "![MLflow-logo-final-black.png](data:image/png;base64,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)"
      ]
    },
    {
      "cell_type": "markdown",
      "metadata": {
        "id": "eNtRYgykvk9k"
      },
      "source": [
        "## MLflow Tracking"
      ]
    },
    {
      "cell_type": "markdown",
      "metadata": {
        "id": "iN5pEQ8_s3lI"
      },
      "source": [
        "In this tutorial we will:\n",
        "1.   Run an interface so we can keep track of all the model runs we perform during the Machine Learning lifecycle.\n",
        "2. Create one experiment with a public dataset.\n",
        "3. Run different models with different parameters and log the results in MLflow.\n",
        "4. Retrieve models trained by different people and compare them.\n",
        "5. Use these models to predict some data.\n",
        "\n"
      ]
    },
    {
      "cell_type": "code",
      "execution_count": null,
      "metadata": {
        "id": "d5dLw1Dj3hmy"
      },
      "outputs": [],
      "source": [
        "from matplotlib import pyplot as plt\n",
        "import tensorflow as tf\n",
        "import numpy as np"
      ]
    },
    {
      "cell_type": "markdown",
      "metadata": {
        "id": "GcYm2ogur3P_"
      },
      "source": [
        "### 1. MLFlow UI (interface)"
      ]
    },
    {
      "cell_type": "markdown",
      "metadata": {
        "id": "JgYJXKgEsNVi"
      },
      "source": [
        "Install mlflow and pyngrok"
      ]
    },
    {
      "cell_type": "code",
      "execution_count": null,
      "metadata": {
        "colab": {
          "base_uri": "https://localhost:8080/"
        },
        "id": "1jjKtblhr0M4",
        "outputId": "d873047d-168c-4607-c998-fe3b9734a569"
      },
      "outputs": [
        {
          "output_type": "stream",
          "name": "stdout",
          "text": [
            "\u001b[2K     \u001b[90m━━━━━━━━━━━━━━━━━━━━━━━━━━━━━━━━━━━━━━━━\u001b[0m \u001b[32m16.7/16.7 MB\u001b[0m \u001b[31m70.8 MB/s\u001b[0m eta \u001b[36m0:00:00\u001b[0m\n",
            "\u001b[2K     \u001b[90m━━━━━━━━━━━━━━━━━━━━━━━━━━━━━━━━━━━━━━━━\u001b[0m \u001b[32m82.3/82.3 KB\u001b[0m \u001b[31m9.1 MB/s\u001b[0m eta \u001b[36m0:00:00\u001b[0m\n",
            "\u001b[?25h  Preparing metadata (setup.py) ... \u001b[?25l\u001b[?25hdone\n",
            "\u001b[2K     \u001b[90m━━━━━━━━━━━━━━━━━━━━━━━━━━━━━━━━━━━━━━\u001b[0m \u001b[32m184.0/184.0 KB\u001b[0m \u001b[31m14.2 MB/s\u001b[0m eta \u001b[36m0:00:00\u001b[0m\n",
            "\u001b[2K     \u001b[90m━━━━━━━━━━━━━━━━━━━━━━━━━━━━━━━━━━━━━━━━\u001b[0m \u001b[32m79.5/79.5 KB\u001b[0m \u001b[31m6.1 MB/s\u001b[0m eta \u001b[36m0:00:00\u001b[0m\n",
            "\u001b[2K     \u001b[90m━━━━━━━━━━━━━━━━━━━━━━━━━━━━━━━━━━━━━━\u001b[0m \u001b[32m147.5/147.5 KB\u001b[0m \u001b[31m11.2 MB/s\u001b[0m eta \u001b[36m0:00:00\u001b[0m\n",
            "\u001b[2K     \u001b[90m━━━━━━━━━━━━━━━━━━━━━━━━━━━━━━━━━━━━━━\u001b[0m \u001b[32m210.6/210.6 KB\u001b[0m \u001b[31m18.7 MB/s\u001b[0m eta \u001b[36m0:00:00\u001b[0m\n",
            "\u001b[2K     \u001b[90m━━━━━━━━━━━━━━━━━━━━━━━━━━━━━━━━━━━━━━\u001b[0m \u001b[32m575.9/575.9 KB\u001b[0m \u001b[31m25.8 MB/s\u001b[0m eta \u001b[36m0:00:00\u001b[0m\n",
            "\u001b[2K     \u001b[90m━━━━━━━━━━━━━━━━━━━━━━━━━━━━━━━━━━━━━━━━\u001b[0m \u001b[32m42.6/42.6 KB\u001b[0m \u001b[31m3.7 MB/s\u001b[0m eta \u001b[36m0:00:00\u001b[0m\n",
            "\u001b[2K     \u001b[90m━━━━━━━━━━━━━━━━━━━━━━━━━━━━━━━━━━━━━━━━\u001b[0m \u001b[32m78.7/78.7 KB\u001b[0m \u001b[31m6.5 MB/s\u001b[0m eta \u001b[36m0:00:00\u001b[0m\n",
            "\u001b[2K     \u001b[90m━━━━━━━━━━━━━━━━━━━━━━━━━━━━━━━━━━━━━━━━\u001b[0m \u001b[32m62.8/62.8 KB\u001b[0m \u001b[31m5.7 MB/s\u001b[0m eta \u001b[36m0:00:00\u001b[0m\n",
            "\u001b[2K     \u001b[90m━━━━━━━━━━━━━━━━━━━━━━━━━━━━━━━━━━━━━━━━\u001b[0m \u001b[32m55.9/55.9 KB\u001b[0m \u001b[31m4.1 MB/s\u001b[0m eta \u001b[36m0:00:00\u001b[0m\n",
            "\u001b[2K     \u001b[90m━━━━━━━━━━━━━━━━━━━━━━━━━━━━━━━━━━━━━━\u001b[0m \u001b[32m140.6/140.6 KB\u001b[0m \u001b[31m10.9 MB/s\u001b[0m eta \u001b[36m0:00:00\u001b[0m\n",
            "\u001b[2K     \u001b[90m━━━━━━━━━━━━━━━━━━━━━━━━━━━━━━━━━━━━━━━━\u001b[0m \u001b[32m62.7/62.7 KB\u001b[0m \u001b[31m5.5 MB/s\u001b[0m eta \u001b[36m0:00:00\u001b[0m\n",
            "\u001b[?25h  Building wheel for databricks-cli (setup.py) ... \u001b[?25l\u001b[?25hdone\n",
            "\u001b[2K     \u001b[90m━━━━━━━━━━━━━━━━━━━━━━━━━━━━━━━━━━━━━━\u001b[0m \u001b[32m761.3/761.3 KB\u001b[0m \u001b[31m11.7 MB/s\u001b[0m eta \u001b[36m0:00:00\u001b[0m\n",
            "\u001b[?25h  Preparing metadata (setup.py) ... \u001b[?25l\u001b[?25hdone\n",
            "  Building wheel for pyngrok (setup.py) ... \u001b[?25l\u001b[?25hdone\n"
          ]
        }
      ],
      "source": [
        "!pip install mlflow --quiet\n",
        "!pip install pyngrok --quiet"
      ]
    },
    {
      "cell_type": "code",
      "execution_count": null,
      "metadata": {
        "id": "BiwRb8cO3nXW"
      },
      "outputs": [],
      "source": [
        "import mlflow\n",
        "from pyngrok import ngrok"
      ]
    },
    {
      "cell_type": "markdown",
      "metadata": {
        "id": "jUF0KFKksH_B"
      },
      "source": [
        "Get a free account at: https://dashboard.ngrok.com/auth\n",
        "\n",
        "Set your token: NGROK_AUTH_TOKEN"
      ]
    },
    {
      "cell_type": "code",
      "execution_count": null,
      "metadata": {
        "id": "z4t0qv0cnhDg"
      },
      "outputs": [],
      "source": [
        "# NGROK_AUTH_TOKEN = \"******************** YOUR CODE HERE ********************\"\n",
        "NGROK_AUTH_TOKEN = \"1tTzdAo2koQUEuOrDc62SvmX94Z_7MFUJos8rB4GXKJFyxRNc\""
      ]
    },
    {
      "cell_type": "code",
      "execution_count": null,
      "metadata": {
        "colab": {
          "base_uri": "https://localhost:8080/"
        },
        "id": "rxA-hM9Oq4CN",
        "outputId": "a4555a8d-999d-4b63-fdb9-bff779600810"
      },
      "outputs": [
        {
          "output_type": "stream",
          "name": "stdout",
          "text": [
            "Your MLflow Tracking UI is now live at: https://413d-35-185-112-39.ngrok.io\n"
          ]
        }
      ],
      "source": [
        "# Run tracking UI in the background\n",
        "get_ipython().system_raw(\"mlflow ui --port 5000 &\")\n",
        "\n",
        "# Terminate open tunnels if exist\n",
        "ngrok.kill()\n",
        "\n",
        "# Setting the authtoken\n",
        "# Get your authtoken from https://dashboard.ngrok.com/auth\n",
        "ngrok.set_auth_token(NGROK_AUTH_TOKEN)\n",
        "\n",
        "# Open an HTTPs tunnel on port 5000 for http://localhost:5000\n",
        "ngrok_tunnel = ngrok.connect(addr=\"5000\", proto=\"http\", bind_tls=True)\n",
        "print(\"Your MLflow Tracking UI is now live at:\", ngrok_tunnel.public_url)"
      ]
    },
    {
      "cell_type": "markdown",
      "metadata": {
        "id": "y51HZ7ZbAf9Z"
      },
      "source": [
        "Go to the URL that returned the previous cell of code, here you can see the MLFlow UI."
      ]
    },
    {
      "cell_type": "markdown",
      "metadata": {
        "id": "apo746MnuMHl"
      },
      "source": [
        "### 2. Dataset and experiment"
      ]
    },
    {
      "cell_type": "markdown",
      "metadata": {
        "id": "QDa0S6KruSd0"
      },
      "source": [
        "Load the data"
      ]
    },
    {
      "cell_type": "code",
      "execution_count": null,
      "metadata": {
        "colab": {
          "base_uri": "https://localhost:8080/"
        },
        "id": "nJJCGRc2sxO7",
        "outputId": "9e5e6701-a122-4c51-e4eb-0bfaf75c1dd3"
      },
      "outputs": [
        {
          "output_type": "stream",
          "name": "stdout",
          "text": [
            "Downloading data from https://storage.googleapis.com/tensorflow/tf-keras-datasets/boston_housing.npz\n",
            "57026/57026 [==============================] - 0s 0us/step\n"
          ]
        }
      ],
      "source": [
        "(x_train, y_train), (x_test, y_test) = tf.keras.datasets.boston_housing.load_data(path=\"boston_housing.npz\", test_split=0.2, seed=113)"
      ]
    },
    {
      "cell_type": "code",
      "execution_count": null,
      "metadata": {
        "colab": {
          "base_uri": "https://localhost:8080/"
        },
        "id": "r5ls93IuHCrc",
        "outputId": "ada78f96-9baf-42ff-e7a8-8d761f4f9212"
      },
      "outputs": [
        {
          "output_type": "execute_result",
          "data": {
            "text/plain": [
              "((404, 13), (102, 13))"
            ]
          },
          "metadata": {},
          "execution_count": 12
        }
      ],
      "source": [
        "x_train.shape, x_test.shape"
      ]
    },
    {
      "cell_type": "markdown",
      "metadata": {
        "id": "ddc3a_Z_uvHT"
      },
      "source": [
        "Create a new experiment that will encapsulate all the model runs. \n",
        "**After running this line, check the MLflow interface!**"
      ]
    },
    {
      "cell_type": "code",
      "execution_count": null,
      "metadata": {
        "colab": {
          "base_uri": "https://localhost:8080/"
        },
        "id": "Ecbb4MpQuUPg",
        "outputId": "469845b7-1b69-459f-8188-6099dc5e1259"
      },
      "outputs": [
        {
          "output_type": "stream",
          "name": "stderr",
          "text": [
            "2023/02/14 17:39:30 INFO mlflow.tracking.fluent: Experiment with name 'Boston Housing' does not exist. Creating a new experiment.\n"
          ]
        },
        {
          "output_type": "execute_result",
          "data": {
            "text/plain": [
              "<Experiment: artifact_location='file:///content/mlruns/581894222607587043', creation_time=1676396370203, experiment_id='581894222607587043', last_update_time=1676396370203, lifecycle_stage='active', name='Boston Housing', tags={}>"
            ]
          },
          "metadata": {},
          "execution_count": 13
        }
      ],
      "source": [
        "mlflow.set_experiment('Boston Housing')"
      ]
    },
    {
      "cell_type": "markdown",
      "metadata": {
        "id": "wjJ8cqxrzwzk"
      },
      "source": [
        "Define a function to create some metrics. We will use them to compare the performance of the models on the test set"
      ]
    },
    {
      "cell_type": "code",
      "execution_count": null,
      "metadata": {
        "id": "jqeTeZm1yBV4"
      },
      "outputs": [],
      "source": [
        "from sklearn.metrics import mean_squared_error, mean_absolute_error, r2_score\n",
        "\n",
        "def eval_metrics(actual, pred):\n",
        "    rmse = np.sqrt(mean_squared_error(actual, pred))\n",
        "    mae = mean_absolute_error(actual, pred)\n",
        "    r2 = r2_score(actual, pred)\n",
        "    return rmse, mae, r2"
      ]
    },
    {
      "cell_type": "markdown",
      "metadata": {
        "id": "ZPFDoX4TAv3o"
      },
      "source": [
        "Define a function to plot the real values and the predictions. This function will also push the figure to mlflow."
      ]
    },
    {
      "cell_type": "code",
      "execution_count": null,
      "metadata": {
        "id": "eBjL6ACU2vpf"
      },
      "outputs": [],
      "source": [
        "def plot_real_vs_prediction(actual, pred):\n",
        "  # Create a new figure\n",
        "  fig = plt.figure()\n",
        "\n",
        "  # Plot the real values and the predictions as two different lines\n",
        "  plt.plot(actual, label='real')\n",
        "  plt.plot(pred, label='predictions')\n",
        "\n",
        "  # Set names and activate the legend\n",
        "  plt.ylabel('Price')\n",
        "  plt.xlabel('Sample')\n",
        "  plt.title('Real vs Prediction')\n",
        "  plt.legend(loc='lower right')\n",
        "\n",
        "  # Save the figure to mlflow\n",
        "  mlflow.log_figure(fig, 'my_figure.png')\n",
        "\n",
        "  # Close the figure so it is not displayed in the output cell\n",
        "  plt.close(fig)"
      ]
    },
    {
      "cell_type": "markdown",
      "metadata": {
        "id": "Pb18PbLG5UON"
      },
      "source": [
        "### 3. Run a model (GradientBoostingRegressor) with different parameters"
      ]
    },
    {
      "cell_type": "markdown",
      "metadata": {
        "id": "nkhkKsvpu5vF"
      },
      "source": [
        "Create the model with some hyperparameters and train it using them. Then, evaluate the results on the test data and report the metrics"
      ]
    },
    {
      "cell_type": "code",
      "execution_count": null,
      "metadata": {
        "id": "C93x0uBru9lP"
      },
      "outputs": [],
      "source": [
        "from sklearn.ensemble import GradientBoostingRegressor\n",
        "\n",
        "def train_model(x, y, xt, yt, learning_rate=0.1, n_estimators=100, max_depth=3):\n",
        "  \n",
        "  # Start to log an experiment\n",
        "  # A name can be set to distinguish the experiments: run_name='myname'\n",
        "  with mlflow.start_run():\n",
        "\n",
        "    print(f'Starting experiment with learning_rate={learning_rate}, n_estimators={n_estimators}, max_depth={max_depth}')\n",
        "\n",
        "    # Log the parameters we will use to create the model to MLFlow\n",
        "    mlflow.log_param(\"learning_rate\", learning_rate)\n",
        "    mlflow.log_param(\"n_estimators\", n_estimators)\n",
        "    mlflow.log_param(\"max_depth\", max_depth)\n",
        "\n",
        "    # Create the model using the parameters\n",
        "    model = GradientBoostingRegressor(loss='squared_error', \n",
        "                                      learning_rate=learning_rate, \n",
        "                                      n_estimators=n_estimators, \n",
        "                                      max_depth=max_depth)\n",
        "\n",
        "    # Fit the model to the data\n",
        "    model.fit(x, y)\n",
        "\n",
        "    # Predict the test data\n",
        "    yp = model.predict(xt)\n",
        "  \n",
        "    # Check the metrics (real vs predicted)\n",
        "    rmse_test, mae_test, r2_test = eval_metrics(yt, yp)\n",
        "\n",
        "    # Log the metrics to MLFlow\n",
        "    mlflow.log_metric(\"rmse\", rmse_test)\n",
        "    mlflow.log_metric(\"mae\", mae_test)\n",
        "    mlflow.log_metric(\"r2\", r2_test)\n",
        "\n",
        "    # Create a figure with the pred vs actual and log it to mlflow\n",
        "    plot_real_vs_prediction(yt, yp)"
      ]
    },
    {
      "cell_type": "code",
      "execution_count": null,
      "metadata": {
        "colab": {
          "base_uri": "https://localhost:8080/"
        },
        "id": "lTRlE7qn1Inj",
        "outputId": "103c84e0-0c69-4f48-b3e5-51d17b60ce6b"
      },
      "outputs": [
        {
          "output_type": "stream",
          "name": "stdout",
          "text": [
            "Starting experiment with learning_rate=0.01, n_estimators=200, max_depth=2\n",
            "Starting experiment with learning_rate=0.001, n_estimators=100, max_depth=3\n",
            "Starting experiment with learning_rate=0.1, n_estimators=300, max_depth=2\n",
            "Starting experiment with learning_rate=0.1, n_estimators=500, max_depth=2\n",
            "Starting experiment with learning_rate=0.1, n_estimators=100, max_depth=5\n",
            "Starting experiment with learning_rate=0.1, n_estimators=100, max_depth=3\n"
          ]
        }
      ],
      "source": [
        "for lr, ne, md in [(0.01, 200, 2), (0.001, 100, 3), (0.1, 300, 2), (0.1, 500, 2), (0.1, 100, 5), (0.1, 100, 3)]:\n",
        "  train_model(x_train, y_train, x_test, y_test, learning_rate=lr, n_estimators=ne, max_depth=md)"
      ]
    },
    {
      "cell_type": "markdown",
      "metadata": {
        "id": "XQ2SqGmZxiso"
      },
      "source": [
        "Check the MLflow interface! Your runs should be registered"
      ]
    },
    {
      "cell_type": "markdown",
      "metadata": {
        "id": "zltTmTDb6K8W"
      },
      "source": [
        "## MLflow Projects"
      ]
    },
    {
      "cell_type": "markdown",
      "metadata": {
        "id": "lUzc3p8VYbUH"
      },
      "source": [
        "We want to compare the solutions of different persons that uploaded their code to GitHub. Let's run their models."
      ]
    },
    {
      "cell_type": "code",
      "execution_count": null,
      "metadata": {
        "colab": {
          "base_uri": "https://localhost:8080/"
        },
        "id": "R2FCC6svo6NI",
        "outputId": "92d5560e-e4d2-4196-d935-d17c8f7debc7"
      },
      "outputs": [
        {
          "output_type": "stream",
          "name": "stderr",
          "text": [
            "2023/02/14 17:52:04 INFO mlflow.tracking.fluent: Experiment with name 'Boston Housing Comparison' does not exist. Creating a new experiment.\n"
          ]
        },
        {
          "output_type": "execute_result",
          "data": {
            "text/plain": [
              "<Experiment: artifact_location='file:///content/mlruns/635403632802004346', creation_time=1676397124246, experiment_id='635403632802004346', last_update_time=1676397124246, lifecycle_stage='active', name='Boston Housing Comparison', tags={}>"
            ]
          },
          "metadata": {},
          "execution_count": 18
        }
      ],
      "source": [
        "mlflow.set_experiment('Boston Housing Comparison')"
      ]
    },
    {
      "cell_type": "code",
      "execution_count": null,
      "metadata": {
        "colab": {
          "base_uri": "https://localhost:8080/"
        },
        "id": "v4DxQCRSD7lA",
        "outputId": "637495c2-2651-45ff-dd24-36ce5c72e1b9"
      },
      "outputs": [
        {
          "output_type": "stream",
          "name": "stderr",
          "text": [
            "2023/02/14 17:52:55 INFO mlflow.projects.utils: === Fetching project from https://github.com/perecasxiru/boston_simpleNN into /tmp/tmpywawijw7 ===\n",
            "2023/02/14 17:52:56 INFO mlflow.projects.utils: Fetched 'main' branch\n",
            "2023/02/14 17:52:56 INFO mlflow.projects.utils: === Created directory /tmp/tmp_83z9er5 for downloading remote URIs passed to arguments of type 'path' ===\n",
            "2023/02/14 17:52:56 INFO mlflow.projects.backend.local: === Running command 'python main.py --layers 3 --neurons 128 --dropout 0.1' in run with ID '138d81d6e978418bbdef6db9096fde43' === \n",
            "2023/02/14 17:53:19 INFO mlflow.projects: === Run (ID '138d81d6e978418bbdef6db9096fde43') succeeded ===\n",
            "2023/02/14 17:53:19 INFO mlflow.projects.utils: === Fetching project from https://github.com/perecasxiru/boston_gbt into /tmp/tmp9ewnqomw ===\n",
            "2023/02/14 17:53:20 INFO mlflow.projects.utils: Fetched 'main' branch\n",
            "2023/02/14 17:53:20 INFO mlflow.projects.utils: === Created directory /tmp/tmpvf6us76d for downloading remote URIs passed to arguments of type 'path' ===\n",
            "2023/02/14 17:53:20 INFO mlflow.projects.backend.local: === Running command 'python main.py --learning_rate 0.1 --n_estimators 100 --max_depth 3' in run with ID '30dde5d45a4346b4916946729f8e5584' === \n",
            "2023/02/14 17:53:31 INFO mlflow.projects: === Run (ID '30dde5d45a4346b4916946729f8e5584') succeeded ===\n"
          ]
        },
        {
          "output_type": "execute_result",
          "data": {
            "text/plain": [
              "<mlflow.projects.submitted_run.LocalSubmittedRun at 0x7f33896280d0>"
            ]
          },
          "metadata": {},
          "execution_count": 19
        }
      ],
      "source": [
        "mlflow.run(\"https://github.com/perecasxiru/boston_simpleNN\", env_manager='local', experiment_name='Boston Housing Comparison')\n",
        "mlflow.run(\"https://github.com/perecasxiru/boston_gbt\", env_manager='local', experiment_name='Boston Housing Comparison')"
      ]
    },
    {
      "cell_type": "markdown",
      "metadata": {
        "id": "uzmLPTkLYw1K"
      },
      "source": [
        "If we now check the UI, two new runs appeared under a new experiment. We can check the results but also the models.\n",
        "\n",
        "**What parameters does each model accept?**"
      ]
    },
    {
      "cell_type": "markdown",
      "source": [
        "We can also query the experiment to see the values as a pandas dataframe.\n",
        "Check that you have two finished runs with a lot of imformation."
      ],
      "metadata": {
        "id": "YEmD4BQ-VJhf"
      }
    },
    {
      "cell_type": "code",
      "source": [
        "experiment = mlflow.get_experiment_by_name('Boston Housing Comparison')\n",
        "experiment_id = experiment.experiment_id\n",
        "\n",
        "df = mlflow.search_runs([experiment_id])\n",
        "df"
      ],
      "metadata": {
        "colab": {
          "base_uri": "https://localhost:8080/",
          "height": 240
        },
        "id": "DOaAjHuFUQ0G",
        "outputId": "0093ea74-53c9-43a2-eaf4-1b36d817428b"
      },
      "execution_count": null,
      "outputs": [
        {
          "output_type": "execute_result",
          "data": {
            "text/plain": [
              "                             run_id       experiment_id    status  \\\n",
              "0  30dde5d45a4346b4916946729f8e5584  635403632802004346  FINISHED   \n",
              "1  138d81d6e978418bbdef6db9096fde43  635403632802004346  FINISHED   \n",
              "\n",
              "                                        artifact_uri  \\\n",
              "0  file:///content/mlruns/635403632802004346/30dd...   \n",
              "1  file:///content/mlruns/635403632802004346/138d...   \n",
              "\n",
              "                        start_time                         end_time  \\\n",
              "0 2023-02-14 17:53:20.317000+00:00 2023-02-14 17:53:31.460000+00:00   \n",
              "1 2023-02-14 17:52:56.622000+00:00 2023-02-14 17:53:19.759000+00:00   \n",
              "\n",
              "   metrics.rmse  metrics.r2  metrics.mae params.learning_rate  ...  \\\n",
              "0      3.551338    0.848493     2.339357                  0.1  ...   \n",
              "1      8.679813    0.094958     6.190399                 None  ...   \n",
              "\n",
              "  tags.mlflow.project.entryPoint  \\\n",
              "0                           main   \n",
              "1                           main   \n",
              "\n",
              "                       tags.mlflow.log-model.history tags.mlflow.user  \\\n",
              "0  [{\"run_id\": \"30dde5d45a4346b4916946729f8e5584\"...             root   \n",
              "1  [{\"run_id\": \"138d81d6e978418bbdef6db9096fde43\"...             root   \n",
              "\n",
              "              tags.mlflow.source.git.commit tags.mlflow.runName  \\\n",
              "0  cfe091b173d0b38cabd6c2976328450ccfb7db66   worried-snake-350   \n",
              "1  ba283b920d9948af69ef9179a19c7b43e334b3d8     placid-crab-118   \n",
              "\n",
              "                   tags.mlflow.source.git.repoURL  \\\n",
              "0       https://github.com/perecasxiru/boston_gbt   \n",
              "1  https://github.com/perecasxiru/boston_simpleNN   \n",
              "\n",
              "                           tags.mlflow.gitRepoURL tags.mlflow.source.type  \\\n",
              "0       https://github.com/perecasxiru/boston_gbt                 PROJECT   \n",
              "1  https://github.com/perecasxiru/boston_simpleNN                 PROJECT   \n",
              "\n",
              "                          tags.mlflow.source.name tags.mlflow.project.backend  \n",
              "0       https://github.com/perecasxiru/boston_gbt                       local  \n",
              "1  https://github.com/perecasxiru/boston_simpleNN                       local  \n",
              "\n",
              "[2 rows x 25 columns]"
            ],
            "text/html": [
              "\n",
              "  <div id=\"df-eba8b081-b8d9-4ae0-b633-b5d601458143\">\n",
              "    <div class=\"colab-df-container\">\n",
              "      <div>\n",
              "<style scoped>\n",
              "    .dataframe tbody tr th:only-of-type {\n",
              "        vertical-align: middle;\n",
              "    }\n",
              "\n",
              "    .dataframe tbody tr th {\n",
              "        vertical-align: top;\n",
              "    }\n",
              "\n",
              "    .dataframe thead th {\n",
              "        text-align: right;\n",
              "    }\n",
              "</style>\n",
              "<table border=\"1\" class=\"dataframe\">\n",
              "  <thead>\n",
              "    <tr style=\"text-align: right;\">\n",
              "      <th></th>\n",
              "      <th>run_id</th>\n",
              "      <th>experiment_id</th>\n",
              "      <th>status</th>\n",
              "      <th>artifact_uri</th>\n",
              "      <th>start_time</th>\n",
              "      <th>end_time</th>\n",
              "      <th>metrics.rmse</th>\n",
              "      <th>metrics.r2</th>\n",
              "      <th>metrics.mae</th>\n",
              "      <th>params.learning_rate</th>\n",
              "      <th>...</th>\n",
              "      <th>tags.mlflow.project.entryPoint</th>\n",
              "      <th>tags.mlflow.log-model.history</th>\n",
              "      <th>tags.mlflow.user</th>\n",
              "      <th>tags.mlflow.source.git.commit</th>\n",
              "      <th>tags.mlflow.runName</th>\n",
              "      <th>tags.mlflow.source.git.repoURL</th>\n",
              "      <th>tags.mlflow.gitRepoURL</th>\n",
              "      <th>tags.mlflow.source.type</th>\n",
              "      <th>tags.mlflow.source.name</th>\n",
              "      <th>tags.mlflow.project.backend</th>\n",
              "    </tr>\n",
              "  </thead>\n",
              "  <tbody>\n",
              "    <tr>\n",
              "      <th>0</th>\n",
              "      <td>30dde5d45a4346b4916946729f8e5584</td>\n",
              "      <td>635403632802004346</td>\n",
              "      <td>FINISHED</td>\n",
              "      <td>file:///content/mlruns/635403632802004346/30dd...</td>\n",
              "      <td>2023-02-14 17:53:20.317000+00:00</td>\n",
              "      <td>2023-02-14 17:53:31.460000+00:00</td>\n",
              "      <td>3.551338</td>\n",
              "      <td>0.848493</td>\n",
              "      <td>2.339357</td>\n",
              "      <td>0.1</td>\n",
              "      <td>...</td>\n",
              "      <td>main</td>\n",
              "      <td>[{\"run_id\": \"30dde5d45a4346b4916946729f8e5584\"...</td>\n",
              "      <td>root</td>\n",
              "      <td>cfe091b173d0b38cabd6c2976328450ccfb7db66</td>\n",
              "      <td>worried-snake-350</td>\n",
              "      <td>https://github.com/perecasxiru/boston_gbt</td>\n",
              "      <td>https://github.com/perecasxiru/boston_gbt</td>\n",
              "      <td>PROJECT</td>\n",
              "      <td>https://github.com/perecasxiru/boston_gbt</td>\n",
              "      <td>local</td>\n",
              "    </tr>\n",
              "    <tr>\n",
              "      <th>1</th>\n",
              "      <td>138d81d6e978418bbdef6db9096fde43</td>\n",
              "      <td>635403632802004346</td>\n",
              "      <td>FINISHED</td>\n",
              "      <td>file:///content/mlruns/635403632802004346/138d...</td>\n",
              "      <td>2023-02-14 17:52:56.622000+00:00</td>\n",
              "      <td>2023-02-14 17:53:19.759000+00:00</td>\n",
              "      <td>8.679813</td>\n",
              "      <td>0.094958</td>\n",
              "      <td>6.190399</td>\n",
              "      <td>None</td>\n",
              "      <td>...</td>\n",
              "      <td>main</td>\n",
              "      <td>[{\"run_id\": \"138d81d6e978418bbdef6db9096fde43\"...</td>\n",
              "      <td>root</td>\n",
              "      <td>ba283b920d9948af69ef9179a19c7b43e334b3d8</td>\n",
              "      <td>placid-crab-118</td>\n",
              "      <td>https://github.com/perecasxiru/boston_simpleNN</td>\n",
              "      <td>https://github.com/perecasxiru/boston_simpleNN</td>\n",
              "      <td>PROJECT</td>\n",
              "      <td>https://github.com/perecasxiru/boston_simpleNN</td>\n",
              "      <td>local</td>\n",
              "    </tr>\n",
              "  </tbody>\n",
              "</table>\n",
              "<p>2 rows × 25 columns</p>\n",
              "</div>\n",
              "      <button class=\"colab-df-convert\" onclick=\"convertToInteractive('df-eba8b081-b8d9-4ae0-b633-b5d601458143')\"\n",
              "              title=\"Convert this dataframe to an interactive table.\"\n",
              "              style=\"display:none;\">\n",
              "        \n",
              "  <svg xmlns=\"http://www.w3.org/2000/svg\" height=\"24px\"viewBox=\"0 0 24 24\"\n",
              "       width=\"24px\">\n",
              "    <path d=\"M0 0h24v24H0V0z\" fill=\"none\"/>\n",
              "    <path d=\"M18.56 5.44l.94 2.06.94-2.06 2.06-.94-2.06-.94-.94-2.06-.94 2.06-2.06.94zm-11 1L8.5 8.5l.94-2.06 2.06-.94-2.06-.94L8.5 2.5l-.94 2.06-2.06.94zm10 10l.94 2.06.94-2.06 2.06-.94-2.06-.94-.94-2.06-.94 2.06-2.06.94z\"/><path d=\"M17.41 7.96l-1.37-1.37c-.4-.4-.92-.59-1.43-.59-.52 0-1.04.2-1.43.59L10.3 9.45l-7.72 7.72c-.78.78-.78 2.05 0 2.83L4 21.41c.39.39.9.59 1.41.59.51 0 1.02-.2 1.41-.59l7.78-7.78 2.81-2.81c.8-.78.8-2.07 0-2.86zM5.41 20L4 18.59l7.72-7.72 1.47 1.35L5.41 20z\"/>\n",
              "  </svg>\n",
              "      </button>\n",
              "      \n",
              "  <style>\n",
              "    .colab-df-container {\n",
              "      display:flex;\n",
              "      flex-wrap:wrap;\n",
              "      gap: 12px;\n",
              "    }\n",
              "\n",
              "    .colab-df-convert {\n",
              "      background-color: #E8F0FE;\n",
              "      border: none;\n",
              "      border-radius: 50%;\n",
              "      cursor: pointer;\n",
              "      display: none;\n",
              "      fill: #1967D2;\n",
              "      height: 32px;\n",
              "      padding: 0 0 0 0;\n",
              "      width: 32px;\n",
              "    }\n",
              "\n",
              "    .colab-df-convert:hover {\n",
              "      background-color: #E2EBFA;\n",
              "      box-shadow: 0px 1px 2px rgba(60, 64, 67, 0.3), 0px 1px 3px 1px rgba(60, 64, 67, 0.15);\n",
              "      fill: #174EA6;\n",
              "    }\n",
              "\n",
              "    [theme=dark] .colab-df-convert {\n",
              "      background-color: #3B4455;\n",
              "      fill: #D2E3FC;\n",
              "    }\n",
              "\n",
              "    [theme=dark] .colab-df-convert:hover {\n",
              "      background-color: #434B5C;\n",
              "      box-shadow: 0px 1px 3px 1px rgba(0, 0, 0, 0.15);\n",
              "      filter: drop-shadow(0px 1px 2px rgba(0, 0, 0, 0.3));\n",
              "      fill: #FFFFFF;\n",
              "    }\n",
              "  </style>\n",
              "\n",
              "      <script>\n",
              "        const buttonEl =\n",
              "          document.querySelector('#df-eba8b081-b8d9-4ae0-b633-b5d601458143 button.colab-df-convert');\n",
              "        buttonEl.style.display =\n",
              "          google.colab.kernel.accessAllowed ? 'block' : 'none';\n",
              "\n",
              "        async function convertToInteractive(key) {\n",
              "          const element = document.querySelector('#df-eba8b081-b8d9-4ae0-b633-b5d601458143');\n",
              "          const dataTable =\n",
              "            await google.colab.kernel.invokeFunction('convertToInteractive',\n",
              "                                                     [key], {});\n",
              "          if (!dataTable) return;\n",
              "\n",
              "          const docLinkHtml = 'Like what you see? Visit the ' +\n",
              "            '<a target=\"_blank\" href=https://colab.research.google.com/notebooks/data_table.ipynb>data table notebook</a>'\n",
              "            + ' to learn more about interactive tables.';\n",
              "          element.innerHTML = '';\n",
              "          dataTable['output_type'] = 'display_data';\n",
              "          await google.colab.output.renderOutput(dataTable, element);\n",
              "          const docLink = document.createElement('div');\n",
              "          docLink.innerHTML = docLinkHtml;\n",
              "          element.appendChild(docLink);\n",
              "        }\n",
              "      </script>\n",
              "    </div>\n",
              "  </div>\n",
              "  "
            ]
          },
          "metadata": {},
          "execution_count": 20
        }
      ]
    },
    {
      "cell_type": "markdown",
      "metadata": {
        "id": "ZLTjqwgdWH4p"
      },
      "source": [
        "## MLflow Models\n",
        "### 1. How to use a model"
      ]
    },
    {
      "cell_type": "markdown",
      "metadata": {
        "id": "delAIATkYx_p"
      },
      "source": [
        "Now we can try to predict some data using the models"
      ]
    },
    {
      "cell_type": "code",
      "execution_count": null,
      "metadata": {
        "id": "GgTaxftsXHkO"
      },
      "outputs": [],
      "source": [
        "data = [[0.01311,90,1.22,0,0.403,7.249,21.9,8.6966,5,226,17.9,395.93,4.81],\n",
        "        [0.14103,0,13.92,0,0.437,5.79,58,6.32,4,289,16,396.9,15.84],\n",
        "        [11.5779,0,18.1,0,0.7,5.036,97,1.77,24,666,20.2,396.9,25.68]]"
      ]
    },
    {
      "cell_type": "markdown",
      "metadata": {
        "id": "QYFo3SvVZNsF"
      },
      "source": [
        "First model: sklearn"
      ]
    },
    {
      "cell_type": "code",
      "source": [
        "run_id = df.loc[0, 'run_id']"
      ],
      "metadata": {
        "id": "KOjKVReBVfkF"
      },
      "execution_count": null,
      "outputs": []
    },
    {
      "cell_type": "code",
      "source": [
        "run_id"
      ],
      "metadata": {
        "colab": {
          "base_uri": "https://localhost:8080/",
          "height": 35
        },
        "id": "uU4vIWAJIfZs",
        "outputId": "7e3b0be2-2028-4adb-96f7-6218433bda7a"
      },
      "execution_count": null,
      "outputs": [
        {
          "output_type": "execute_result",
          "data": {
            "text/plain": [
              "'30dde5d45a4346b4916946729f8e5584'"
            ],
            "application/vnd.google.colaboratory.intrinsic+json": {
              "type": "string"
            }
          },
          "metadata": {},
          "execution_count": 23
        }
      ]
    },
    {
      "cell_type": "code",
      "execution_count": null,
      "metadata": {
        "id": "LNawkvJLWJ7s",
        "colab": {
          "base_uri": "https://localhost:8080/"
        },
        "outputId": "c01a4571-ffdf-4140-b5c1-108c887ce3ac"
      },
      "outputs": [
        {
          "output_type": "execute_result",
          "data": {
            "text/plain": [
              "array([34.25224951, 19.57403943, 11.38005657])"
            ]
          },
          "metadata": {},
          "execution_count": 24
        }
      ],
      "source": [
        "import mlflow\n",
        "logged_model = f'runs:/{run_id}/model'\n",
        "\n",
        "# Load model as a PyFuncModel.\n",
        "loaded_model = mlflow.pyfunc.load_model(logged_model)\n",
        "\n",
        "# Predict on a Pandas DataFrame.\n",
        "import pandas as pd\n",
        "loaded_model.predict(pd.DataFrame(data))"
      ]
    },
    {
      "cell_type": "markdown",
      "metadata": {
        "id": "cYbfkJsBZO0x"
      },
      "source": [
        "Second model: keras"
      ]
    },
    {
      "cell_type": "code",
      "source": [
        "run_id = df.loc[1, 'run_id']"
      ],
      "metadata": {
        "id": "y7d7nSu5VsEG"
      },
      "execution_count": null,
      "outputs": []
    },
    {
      "cell_type": "code",
      "execution_count": null,
      "metadata": {
        "id": "nmfkiVhsW-zu",
        "colab": {
          "base_uri": "https://localhost:8080/",
          "height": 215
        },
        "outputId": "b7df4f06-fe63-4cf5-a594-4dc69f85b5f6"
      },
      "outputs": [
        {
          "output_type": "stream",
          "name": "stderr",
          "text": [
            "/usr/local/lib/python3.8/dist-packages/keras/backend.py:451: UserWarning: `tf.keras.backend.set_learning_phase` is deprecated and will be removed after 2020-10-11. To update it, simply pass a True/False value to the `training` argument of the `__call__` method of your layer or model.\n",
            "  warnings.warn(\n"
          ]
        },
        {
          "output_type": "stream",
          "name": "stdout",
          "text": [
            "1/1 [==============================] - 0s 137ms/step\n"
          ]
        },
        {
          "output_type": "execute_result",
          "data": {
            "text/plain": [
              "           0\n",
              "0  34.487358\n",
              "1  21.112543\n",
              "2  14.980490"
            ],
            "text/html": [
              "\n",
              "  <div id=\"df-b7f0e9ab-c3e7-4323-afdd-bd432fb30e1e\">\n",
              "    <div class=\"colab-df-container\">\n",
              "      <div>\n",
              "<style scoped>\n",
              "    .dataframe tbody tr th:only-of-type {\n",
              "        vertical-align: middle;\n",
              "    }\n",
              "\n",
              "    .dataframe tbody tr th {\n",
              "        vertical-align: top;\n",
              "    }\n",
              "\n",
              "    .dataframe thead th {\n",
              "        text-align: right;\n",
              "    }\n",
              "</style>\n",
              "<table border=\"1\" class=\"dataframe\">\n",
              "  <thead>\n",
              "    <tr style=\"text-align: right;\">\n",
              "      <th></th>\n",
              "      <th>0</th>\n",
              "    </tr>\n",
              "  </thead>\n",
              "  <tbody>\n",
              "    <tr>\n",
              "      <th>0</th>\n",
              "      <td>34.487358</td>\n",
              "    </tr>\n",
              "    <tr>\n",
              "      <th>1</th>\n",
              "      <td>21.112543</td>\n",
              "    </tr>\n",
              "    <tr>\n",
              "      <th>2</th>\n",
              "      <td>14.980490</td>\n",
              "    </tr>\n",
              "  </tbody>\n",
              "</table>\n",
              "</div>\n",
              "      <button class=\"colab-df-convert\" onclick=\"convertToInteractive('df-b7f0e9ab-c3e7-4323-afdd-bd432fb30e1e')\"\n",
              "              title=\"Convert this dataframe to an interactive table.\"\n",
              "              style=\"display:none;\">\n",
              "        \n",
              "  <svg xmlns=\"http://www.w3.org/2000/svg\" height=\"24px\"viewBox=\"0 0 24 24\"\n",
              "       width=\"24px\">\n",
              "    <path d=\"M0 0h24v24H0V0z\" fill=\"none\"/>\n",
              "    <path d=\"M18.56 5.44l.94 2.06.94-2.06 2.06-.94-2.06-.94-.94-2.06-.94 2.06-2.06.94zm-11 1L8.5 8.5l.94-2.06 2.06-.94-2.06-.94L8.5 2.5l-.94 2.06-2.06.94zm10 10l.94 2.06.94-2.06 2.06-.94-2.06-.94-.94-2.06-.94 2.06-2.06.94z\"/><path d=\"M17.41 7.96l-1.37-1.37c-.4-.4-.92-.59-1.43-.59-.52 0-1.04.2-1.43.59L10.3 9.45l-7.72 7.72c-.78.78-.78 2.05 0 2.83L4 21.41c.39.39.9.59 1.41.59.51 0 1.02-.2 1.41-.59l7.78-7.78 2.81-2.81c.8-.78.8-2.07 0-2.86zM5.41 20L4 18.59l7.72-7.72 1.47 1.35L5.41 20z\"/>\n",
              "  </svg>\n",
              "      </button>\n",
              "      \n",
              "  <style>\n",
              "    .colab-df-container {\n",
              "      display:flex;\n",
              "      flex-wrap:wrap;\n",
              "      gap: 12px;\n",
              "    }\n",
              "\n",
              "    .colab-df-convert {\n",
              "      background-color: #E8F0FE;\n",
              "      border: none;\n",
              "      border-radius: 50%;\n",
              "      cursor: pointer;\n",
              "      display: none;\n",
              "      fill: #1967D2;\n",
              "      height: 32px;\n",
              "      padding: 0 0 0 0;\n",
              "      width: 32px;\n",
              "    }\n",
              "\n",
              "    .colab-df-convert:hover {\n",
              "      background-color: #E2EBFA;\n",
              "      box-shadow: 0px 1px 2px rgba(60, 64, 67, 0.3), 0px 1px 3px 1px rgba(60, 64, 67, 0.15);\n",
              "      fill: #174EA6;\n",
              "    }\n",
              "\n",
              "    [theme=dark] .colab-df-convert {\n",
              "      background-color: #3B4455;\n",
              "      fill: #D2E3FC;\n",
              "    }\n",
              "\n",
              "    [theme=dark] .colab-df-convert:hover {\n",
              "      background-color: #434B5C;\n",
              "      box-shadow: 0px 1px 3px 1px rgba(0, 0, 0, 0.15);\n",
              "      filter: drop-shadow(0px 1px 2px rgba(0, 0, 0, 0.3));\n",
              "      fill: #FFFFFF;\n",
              "    }\n",
              "  </style>\n",
              "\n",
              "      <script>\n",
              "        const buttonEl =\n",
              "          document.querySelector('#df-b7f0e9ab-c3e7-4323-afdd-bd432fb30e1e button.colab-df-convert');\n",
              "        buttonEl.style.display =\n",
              "          google.colab.kernel.accessAllowed ? 'block' : 'none';\n",
              "\n",
              "        async function convertToInteractive(key) {\n",
              "          const element = document.querySelector('#df-b7f0e9ab-c3e7-4323-afdd-bd432fb30e1e');\n",
              "          const dataTable =\n",
              "            await google.colab.kernel.invokeFunction('convertToInteractive',\n",
              "                                                     [key], {});\n",
              "          if (!dataTable) return;\n",
              "\n",
              "          const docLinkHtml = 'Like what you see? Visit the ' +\n",
              "            '<a target=\"_blank\" href=https://colab.research.google.com/notebooks/data_table.ipynb>data table notebook</a>'\n",
              "            + ' to learn more about interactive tables.';\n",
              "          element.innerHTML = '';\n",
              "          dataTable['output_type'] = 'display_data';\n",
              "          await google.colab.output.renderOutput(dataTable, element);\n",
              "          const docLink = document.createElement('div');\n",
              "          docLink.innerHTML = docLinkHtml;\n",
              "          element.appendChild(docLink);\n",
              "        }\n",
              "      </script>\n",
              "    </div>\n",
              "  </div>\n",
              "  "
            ]
          },
          "metadata": {},
          "execution_count": 26
        }
      ],
      "source": [
        "import mlflow\n",
        "logged_model = f'runs:/{run_id}/model'\n",
        "\n",
        "# Load model as a PyFuncModel.\n",
        "loaded_model = mlflow.pyfunc.load_model(logged_model)\n",
        "\n",
        "# Predict on a Pandas DataFrame.\n",
        "import pandas as pd\n",
        "loaded_model.predict(pd.DataFrame(data))"
      ]
    },
    {
      "cell_type": "markdown",
      "metadata": {
        "id": "ZrJTgKQ4pIFc"
      },
      "source": [
        "### 2. How to save a model"
      ]
    },
    {
      "cell_type": "code",
      "execution_count": null,
      "metadata": {
        "colab": {
          "base_uri": "https://localhost:8080/"
        },
        "id": "UPhGwmflpDyu",
        "outputId": "3a1ab66d-41f1-4c16-cf00-d4cfe5a23600"
      },
      "outputs": [
        {
          "output_type": "stream",
          "name": "stderr",
          "text": [
            "2023/02/14 18:15:59 INFO mlflow.tracking.fluent: Experiment with name 'Boston Housing Models' does not exist. Creating a new experiment.\n"
          ]
        },
        {
          "output_type": "execute_result",
          "data": {
            "text/plain": [
              "<Experiment: artifact_location='file:///content/mlruns/460777972038033568', creation_time=1676398559218, experiment_id='460777972038033568', last_update_time=1676398559218, lifecycle_stage='active', name='Boston Housing Models', tags={}>"
            ]
          },
          "metadata": {},
          "execution_count": 27
        }
      ],
      "source": [
        "mlflow.set_experiment('Boston Housing Models')"
      ]
    },
    {
      "cell_type": "markdown",
      "metadata": {
        "id": "WKAkW-xwyEtg"
      },
      "source": [
        "There are two different ways to log (save) the models:\n",
        "- Calling the **log_model** function explicitly\n",
        "- Activating the **autolog** "
      ]
    },
    {
      "cell_type": "markdown",
      "metadata": {
        "id": "Uq6l-XVt0Buv"
      },
      "source": [
        "### 2.1 Calling the log_function explicitly"
      ]
    },
    {
      "cell_type": "code",
      "execution_count": null,
      "metadata": {
        "id": "NDeDrg1Sykhf"
      },
      "outputs": [],
      "source": [
        "import mlflow.sklearn\n",
        "\n",
        "with mlflow.start_run(run_name='explicit_call'):\n",
        "  model = GradientBoostingRegressor(loss='squared_error', \n",
        "                                        learning_rate=0.1, \n",
        "                                        n_estimators=100, \n",
        "                                        max_depth=3)\n",
        "  model.fit(x_train, y_train)\n",
        "  mlflow.sklearn.log_model(model, 'model_explicit')"
      ]
    },
    {
      "cell_type": "markdown",
      "metadata": {
        "id": "F4Rtgn3X5pfU"
      },
      "source": [
        "### 2.2 Activating the autolog\n",
        "If you had to remember only one thing from this entire class, it would be this...\n",
        "\n",
        "``mlflow.sklearn.autolog()``\n",
        "\n",
        "With this single line at the beginning of the execution of the whole notebook, we can forget about registering the metrics, the parameters, the model... MLflow does it for us!\n",
        "\n"
      ]
    },
    {
      "cell_type": "code",
      "execution_count": null,
      "metadata": {
        "colab": {
          "base_uri": "https://localhost:8080/"
        },
        "id": "hBWlU4Dg0RUO",
        "outputId": "b7a32934-1775-4486-ed16-eb99800b81b9"
      },
      "outputs": [
        {
          "output_type": "stream",
          "name": "stderr",
          "text": [
            "2023/02/14 18:19:33 INFO mlflow.utils.autologging_utils: Created MLflow autologging run with ID '2490268897c240438cda968f6b79c595', which will track hyperparameters, performance metrics, model artifacts, and lineage information for the current sklearn workflow\n"
          ]
        },
        {
          "output_type": "execute_result",
          "data": {
            "text/plain": [
              "GradientBoostingRegressor(max_depth=5, n_estimators=200)"
            ]
          },
          "metadata": {},
          "execution_count": 29
        }
      ],
      "source": [
        "import mlflow.sklearn\n",
        "mlflow.sklearn.autolog()\n",
        "\n",
        "model = GradientBoostingRegressor(loss='squared_error', \n",
        "                                      learning_rate=0.1, \n",
        "                                      n_estimators=200, \n",
        "                                      max_depth=5)\n",
        "model.fit(x_train, y_train)"
      ]
    },
    {
      "cell_type": "markdown",
      "metadata": {
        "id": "7ZNdpyYt6Vks"
      },
      "source": [
        "Now we can also evaluate the model with its runID:"
      ]
    },
    {
      "cell_type": "code",
      "source": [
        "run_id = '2407d4e2bb424fd5b905744711392249'"
      ],
      "metadata": {
        "id": "SgyxbI8AXGCd"
      },
      "execution_count": null,
      "outputs": []
    },
    {
      "cell_type": "code",
      "execution_count": null,
      "metadata": {
        "colab": {
          "base_uri": "https://localhost:8080/"
        },
        "id": "oDj-F2Y36U4V",
        "outputId": "c5f917a3-2b44-4d71-be23-17882bccf4b4"
      },
      "outputs": [
        {
          "output_type": "execute_result",
          "data": {
            "text/plain": [
              "array([34.69240195, 20.21910244,  9.95058254])"
            ]
          },
          "metadata": {},
          "execution_count": 28
        }
      ],
      "source": [
        "import mlflow\n",
        "# logged_model = '*************** COPY THE CODE YOU WILL FIND IN THE UI *****************'\n",
        "logged_model = f'runs:/{run_id}/model'\n",
        "\n",
        "# Load model as a PyFuncModel.\n",
        "loaded_model = mlflow.pyfunc.load_model(logged_model)\n",
        "\n",
        "# Predict on a Pandas DataFrame.\n",
        "import pandas as pd\n",
        "loaded_model.predict(pd.DataFrame(data))"
      ]
    },
    {
      "cell_type": "code",
      "source": [
        "mlflow.autolog()"
      ],
      "metadata": {
        "id": "orFF5opdXOgt"
      },
      "execution_count": null,
      "outputs": []
    },
    {
      "cell_type": "markdown",
      "metadata": {
        "id": "YzqLhyiWvJx0"
      },
      "source": [
        "## Hands-On! "
      ]
    },
    {
      "cell_type": "markdown",
      "metadata": {
        "id": "dVdX0Xdhod_V"
      },
      "source": [
        "**EXERCICE**: Now that you have trained a GradientBoostingRegressor try to repeat the process with a **Random Forest Regressor** (https://scikit-learn.org/stable/modules/generated/sklearn.ensemble.RandomForestRegressor.html).\n",
        "\n",
        "Then, check your results in the MLflow UI. Which model is doing better?"
      ]
    },
    {
      "cell_type": "code",
      "source": [],
      "metadata": {
        "id": "hdR0jSVYRWod"
      },
      "execution_count": null,
      "outputs": []
    },
    {
      "cell_type": "markdown",
      "source": [
        "## Hands-On! "
      ],
      "metadata": {
        "id": "DmZRixUBXlYN"
      }
    },
    {
      "cell_type": "markdown",
      "source": [
        "**EXERCICE**: Export your model to github as done in https://github.com/perecasxiru/boston_gbt. Share your URL, are you able to run the model of your classmates?"
      ],
      "metadata": {
        "id": "t-3H-HbJX9_H"
      }
    },
    {
      "cell_type": "code",
      "source": [],
      "metadata": {
        "id": "nA12SXhrRXJc"
      },
      "execution_count": null,
      "outputs": []
    }
  ],
  "metadata": {
    "colab": {
      "provenance": []
    },
    "kernelspec": {
      "display_name": "Python 3",
      "name": "python3"
    },
    "language_info": {
      "name": "python"
    }
  },
  "nbformat": 4,
  "nbformat_minor": 0
}